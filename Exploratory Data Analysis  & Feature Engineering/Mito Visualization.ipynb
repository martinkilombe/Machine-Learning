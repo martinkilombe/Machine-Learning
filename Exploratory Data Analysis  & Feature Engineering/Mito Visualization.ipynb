{
 "cells": [
  {
   "cell_type": "code",
   "execution_count": 5,
   "metadata": {},
   "outputs": [],
   "source": [
    "import mitosheet\n",
    "import pandas as pd"
   ]
  },
  {
   "cell_type": "code",
   "execution_count": 6,
   "metadata": {},
   "outputs": [
    {
     "ename": "Exception",
     "evalue": "The mitosheet currently only works in JupyterLab.\n\nTo see instructions on getting Mitosheet running in JupyterLab, find install instructions here: https://docs.trymito.io/getting-started/installing-mito",
     "output_type": "error",
     "traceback": [
      "\u001b[1;31m---------------------------------------------------------------------------\u001b[0m",
      "\u001b[1;31mException\u001b[0m                                 Traceback (most recent call last)",
      "\u001b[1;32md:\\GIT1\\Machine-Learning\\Exploratory Data Analysis  & Feature Engineering\\Mito Visualization.ipynb Cell 2\u001b[0m line \u001b[0;36m3\n\u001b[0;32m      <a href='vscode-notebook-cell:/d%3A/GIT1/Machine-Learning/Exploratory%20Data%20Analysis%20%20%26%20Feature%20Engineering/Mito%20Visualization.ipynb#W1sZmlsZQ%3D%3D?line=0'>1</a>\u001b[0m data \u001b[39m=\u001b[39m pd\u001b[39m.\u001b[39mread_csv(\u001b[39m\"\u001b[39m\u001b[39mD:\u001b[39m\u001b[39m\\\u001b[39m\u001b[39mGIT1\u001b[39m\u001b[39m\\\u001b[39m\u001b[39mMachine-Learning\u001b[39m\u001b[39m\\\u001b[39m\u001b[39mK Means Clustering\u001b[39m\u001b[39m\\\u001b[39m\u001b[39mMall_Customers.csv\u001b[39m\u001b[39m\"\u001b[39m)\n\u001b[0;32m      <a href='vscode-notebook-cell:/d%3A/GIT1/Machine-Learning/Exploratory%20Data%20Analysis%20%20%26%20Feature%20Engineering/Mito%20Visualization.ipynb#W1sZmlsZQ%3D%3D?line=1'>2</a>\u001b[0m data\n\u001b[1;32m----> <a href='vscode-notebook-cell:/d%3A/GIT1/Machine-Learning/Exploratory%20Data%20Analysis%20%20%26%20Feature%20Engineering/Mito%20Visualization.ipynb#W1sZmlsZQ%3D%3D?line=2'>3</a>\u001b[0m mitosheet\u001b[39m.\u001b[39;49msheet(data)\n",
      "File \u001b[1;32mc:\\Users\\PC\\anaconda3\\envs\\machinelearning\\Lib\\site-packages\\mitosheet\\mito_backend.py:380\u001b[0m, in \u001b[0;36msheet\u001b[1;34m(analysis_to_replay, view_df, sheet_functions, importers, *args)\u001b[0m\n\u001b[0;32m    378\u001b[0m \u001b[39mif\u001b[39;00m is_in_vs_code() \u001b[39mor\u001b[39;00m is_in_google_colab():\n\u001b[0;32m    379\u001b[0m     log(\u001b[39m'\u001b[39m\u001b[39mmitosheet_sheet_call_location_failed\u001b[39m\u001b[39m'\u001b[39m, failed\u001b[39m=\u001b[39m\u001b[39mTrue\u001b[39;00m)\n\u001b[1;32m--> 380\u001b[0m     \u001b[39mraise\u001b[39;00m \u001b[39mException\u001b[39;00m(\u001b[39m\"\u001b[39m\u001b[39mThe mitosheet currently only works in JupyterLab.\u001b[39m\u001b[39m\\n\u001b[39;00m\u001b[39m\\n\u001b[39;00m\u001b[39mTo see instructions on getting Mitosheet running in JupyterLab, find install instructions here: https://docs.trymito.io/getting-started/installing-mito\u001b[39m\u001b[39m\"\u001b[39m)\n\u001b[0;32m    383\u001b[0m \u001b[39m# If the user.json does not exist, we create it. This ensures if the file is deleted in between\u001b[39;00m\n\u001b[0;32m    384\u001b[0m \u001b[39m# when the package is imported and mitosheet.sheet is called, the user still gets a user.json. \u001b[39;00m\n\u001b[0;32m    385\u001b[0m \u001b[39m# We don't need to upgrade as creating the file will automatically use the most recent version\u001b[39;00m\n\u001b[0;32m    386\u001b[0m \u001b[39mif\u001b[39;00m \u001b[39mnot\u001b[39;00m os\u001b[39m.\u001b[39mpath\u001b[39m.\u001b[39mexists(USER_JSON_PATH):\n",
      "\u001b[1;31mException\u001b[0m: The mitosheet currently only works in JupyterLab.\n\nTo see instructions on getting Mitosheet running in JupyterLab, find install instructions here: https://docs.trymito.io/getting-started/installing-mito"
     ]
    }
   ],
   "source": [
    "data = pd.read_csv(\"D:\\GIT1\\Machine-Learning\\K Means Clustering\\Mall_Customers.csv\")\n",
    "data\n",
    "mitosheet.sheet(data)"
   ]
  },
  {
   "cell_type": "code",
   "execution_count": null,
   "metadata": {},
   "outputs": [],
   "source": []
  }
 ],
 "metadata": {
  "kernelspec": {
   "display_name": "machinelearning",
   "language": "python",
   "name": "python3"
  },
  "language_info": {
   "codemirror_mode": {
    "name": "ipython",
    "version": 3
   },
   "file_extension": ".py",
   "mimetype": "text/x-python",
   "name": "python",
   "nbconvert_exporter": "python",
   "pygments_lexer": "ipython3",
   "version": "3.11.4"
  },
  "orig_nbformat": 4
 },
 "nbformat": 4,
 "nbformat_minor": 2
}
